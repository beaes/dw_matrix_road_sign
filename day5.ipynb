{
  "nbformat": 4,
  "nbformat_minor": 0,
  "metadata": {
    "colab": {
      "name": "day5.ipynb",
      "provenance": [],
      "collapsed_sections": [],
      "mount_file_id": "1UvgH0IFi7dhzgTvZLNIIzBSJ4RsNpyJA",
      "authorship_tag": "ABX9TyOEFMl7LXKeV5QWaLC7uVrR",
      "include_colab_link": true
    },
    "kernelspec": {
      "name": "python3",
      "display_name": "Python 3"
    },
    "accelerator": "GPU"
  },
  "cells": [
    {
      "cell_type": "markdown",
      "metadata": {
        "id": "view-in-github",
        "colab_type": "text"
      },
      "source": [
        "<a href=\"https://colab.research.google.com/github/beaes/dw_matrix_road_sign/blob/master/day5.ipynb\" target=\"_parent\"><img src=\"https://colab.research.google.com/assets/colab-badge.svg\" alt=\"Open In Colab\"/></a>"
      ]
    },
    {
      "cell_type": "code",
      "metadata": {
        "id": "fCbyzixwizBq",
        "colab_type": "code",
        "outputId": "36637da5-ef63-4c0b-85b9-336756fec800",
        "colab": {
          "base_uri": "https://localhost:8080/",
          "height": 182
        }
      },
      "source": [
        "!pip install hyperopt"
      ],
      "execution_count": 1,
      "outputs": [
        {
          "output_type": "stream",
          "text": [
            "Requirement already satisfied: hyperopt in /usr/local/lib/python3.6/dist-packages (0.1.2)\n",
            "Requirement already satisfied: pymongo in /usr/local/lib/python3.6/dist-packages (from hyperopt) (3.10.1)\n",
            "Requirement already satisfied: scipy in /usr/local/lib/python3.6/dist-packages (from hyperopt) (1.4.1)\n",
            "Requirement already satisfied: networkx in /usr/local/lib/python3.6/dist-packages (from hyperopt) (2.4)\n",
            "Requirement already satisfied: tqdm in /usr/local/lib/python3.6/dist-packages (from hyperopt) (4.38.0)\n",
            "Requirement already satisfied: numpy in /usr/local/lib/python3.6/dist-packages (from hyperopt) (1.18.2)\n",
            "Requirement already satisfied: future in /usr/local/lib/python3.6/dist-packages (from hyperopt) (0.16.0)\n",
            "Requirement already satisfied: six in /usr/local/lib/python3.6/dist-packages (from hyperopt) (1.12.0)\n",
            "Requirement already satisfied: decorator>=4.3.0 in /usr/local/lib/python3.6/dist-packages (from networkx->hyperopt) (4.4.2)\n"
          ],
          "name": "stdout"
        }
      ]
    },
    {
      "cell_type": "code",
      "metadata": {
        "id": "a8aAz3-LjlID",
        "colab_type": "code",
        "colab": {}
      },
      "source": [
        "import pandas as pd\n",
        "import numpy as np\n",
        "import os\n",
        "import datetime\n",
        "\n",
        "import tensorflow as tf\n",
        "from tensorflow.keras.models import Sequential\n",
        "from tensorflow.keras.layers import Conv2D, MaxPool2D, Dense, Flatten, Dropout\n",
        "from tensorflow.keras.utils import to_categorical\n",
        "\n",
        "%load_ext tensorboard\n",
        "\n",
        "import matplotlib.pyplot as plt\n",
        "from skimage import color, exposure\n",
        "\n",
        "from sklearn.metrics import accuracy_score\n",
        "\n",
        "from hyperopt import hp, STATUS_OK, tpe, Trials, fmin"
      ],
      "execution_count": 0,
      "outputs": []
    },
    {
      "cell_type": "code",
      "metadata": {
        "id": "I6msJbuCj21-",
        "colab_type": "code",
        "outputId": "912e2cb5-0a8a-4d14-b4a2-1ea19a784959",
        "colab": {
          "base_uri": "https://localhost:8080/",
          "height": 35
        }
      },
      "source": [
        "cd 'drive/My Drive/Colab Notebooks/dw_matrix/matrix_three/dw_matrix_road_sign'"
      ],
      "execution_count": 3,
      "outputs": [
        {
          "output_type": "stream",
          "text": [
            "/content/drive/My Drive/Colab Notebooks/dw_matrix/matrix_three/dw_matrix_road_sign\n"
          ],
          "name": "stdout"
        }
      ]
    },
    {
      "cell_type": "code",
      "metadata": {
        "id": "6oReJhIoj-1a",
        "colab_type": "code",
        "colab": {}
      },
      "source": [
        "train = pd.read_pickle('data/train.p')\n",
        "test = pd.read_pickle('data/test.p')\n",
        "\n",
        "X_train, y_train = train['features'], train['labels']\n",
        "X_test, y_test = test['features'], test['labels']"
      ],
      "execution_count": 0,
      "outputs": []
    },
    {
      "cell_type": "code",
      "metadata": {
        "id": "rBj-wYX2kMJH",
        "colab_type": "code",
        "colab": {}
      },
      "source": [
        "if y_train.ndim == 1: y_train = to_categorical(y_train)\n",
        "if y_test.ndim == 1: y_test = to_categorical(y_test)\n",
        "\n",
        "input_shape = X_train.shape[1:]\n",
        "num_classes = y_train.shape[1]"
      ],
      "execution_count": 0,
      "outputs": []
    },
    {
      "cell_type": "code",
      "metadata": {
        "id": "JP_3dNgJkPPd",
        "colab_type": "code",
        "colab": {}
      },
      "source": [
        "def train_model(model, X_train, y_train, params_fit={}):\n",
        "  model.compile(loss='categorical_crossentropy', optimizer='Adam', metrics=['accuracy'])\n",
        "\n",
        "  logdir = os.path.join(\"logs\", datetime.datetime.now().strftime(\"%Y%m%d-%H%M%S\"))\n",
        "  tensorboard_callback = tf.keras.callbacks.TensorBoard(logdir, histogram_freq=1)\n",
        "\n",
        "  model.fit(\n",
        "      X_train,\n",
        "      y_train,\n",
        "      batch_size=params_fit.get('batch_size', 128),\n",
        "      epochs=params_fit.get('epochs', 5),\n",
        "      verbose=params_fit.get('verbose', 1),\n",
        "      validation_data=params_fit.get('validation_data', (X_train, y_train)),\n",
        "      callbacks= [tensorboard_callback]\n",
        "  )\n",
        "\n",
        "  return model\n",
        "\n",
        "def predict(model_trained, X_test, y_test, scoring=accuracy_score):\n",
        "   y_test_norm = np.argmax(y_test, axis=1)\n",
        "\n",
        "   y_pred_prob = model_trained.predict(X_test)\n",
        "   y_pred = np.argmax(y_pred_prob, axis=1)\n",
        "\n",
        "   return scoring(y_test_norm, y_pred)"
      ],
      "execution_count": 0,
      "outputs": []
    },
    {
      "cell_type": "code",
      "metadata": {
        "id": "uZGCuq6moI8I",
        "colab_type": "code",
        "colab": {}
      },
      "source": [
        "def get_cnn_v5(input_shape, num_classes):\n",
        "  return Sequential([\n",
        "    Conv2D(filters=32, kernel_size=(3, 3), activation='relu', input_shape=input_shape),\n",
        "    Conv2D(filters=32, kernel_size=(3, 3), activation='relu', padding='same'),\n",
        "    MaxPool2D(),\n",
        "    Dropout(0.3),\n",
        "\n",
        "    Conv2D(filters=64, kernel_size=(3, 3), activation='relu', padding='same'),\n",
        "    Conv2D(filters=64, kernel_size=(3, 3), activation='relu'),\n",
        "    MaxPool2D(),\n",
        "    Dropout(0.3),\n",
        "\n",
        "    Conv2D(filters=64, kernel_size=(3, 3), activation='relu', padding='same'),\n",
        "    Conv2D(filters=64, kernel_size=(3, 3), activation='relu'),\n",
        "    MaxPool2D(),\n",
        "    Dropout(0.3),\n",
        "    \n",
        "    Flatten(),\n",
        "\n",
        "    Dense(1024, activation='relu'),\n",
        "    Dropout(0.3),\n",
        "\n",
        "    Dense(1024, activation='relu'),\n",
        "    Dropout(0.3),\n",
        "\n",
        "    Dense(num_classes, activation='softmax'), \n",
        "  ])"
      ],
      "execution_count": 0,
      "outputs": []
    },
    {
      "cell_type": "code",
      "metadata": {
        "id": "y92tkYszpwmt",
        "colab_type": "code",
        "outputId": "8dbbd2f6-aa49-4d9d-e4b9-d4d308340254",
        "colab": {
          "base_uri": "https://localhost:8080/",
          "height": 219
        }
      },
      "source": [
        "model = get_cnn_v5(input_shape, num_classes)\n",
        "model_trained = train_model(model, X_train, y_train)\n",
        "\n",
        "predict(model_trained, X_test, y_test)"
      ],
      "execution_count": 8,
      "outputs": [
        {
          "output_type": "stream",
          "text": [
            "Epoch 1/5\n",
            "272/272 [==============================] - 5s 19ms/step - loss: 2.6215 - accuracy: 0.2796 - val_loss: 0.9935 - val_accuracy: 0.6973\n",
            "Epoch 2/5\n",
            "272/272 [==============================] - 5s 17ms/step - loss: 0.7953 - accuracy: 0.7496 - val_loss: 0.1588 - val_accuracy: 0.9552\n",
            "Epoch 3/5\n",
            "272/272 [==============================] - 5s 17ms/step - loss: 0.3747 - accuracy: 0.8855 - val_loss: 0.0840 - val_accuracy: 0.9772\n",
            "Epoch 4/5\n",
            "272/272 [==============================] - 5s 17ms/step - loss: 0.2386 - accuracy: 0.9284 - val_loss: 0.0450 - val_accuracy: 0.9868\n",
            "Epoch 5/5\n",
            "272/272 [==============================] - 5s 17ms/step - loss: 0.1926 - accuracy: 0.9422 - val_loss: 0.0317 - val_accuracy: 0.9913\n"
          ],
          "name": "stdout"
        },
        {
          "output_type": "execute_result",
          "data": {
            "text/plain": [
              "0.9757369614512472"
            ]
          },
          "metadata": {
            "tags": []
          },
          "execution_count": 8
        }
      ]
    },
    {
      "cell_type": "code",
      "metadata": {
        "id": "w_HkoWRo23zK",
        "colab_type": "code",
        "colab": {
          "base_uri": "https://localhost:8080/",
          "height": 54
        },
        "outputId": "234a00e4-9aff-4bbb-8916-983127023946"
      },
      "source": [
        "model_trained.evaluate(X_test, y_test)[1]"
      ],
      "execution_count": 9,
      "outputs": [
        {
          "output_type": "stream",
          "text": [
            "138/138 [==============================] - 0s 3ms/step - loss: 0.1074 - accuracy: 0.9757\n"
          ],
          "name": "stdout"
        },
        {
          "output_type": "execute_result",
          "data": {
            "text/plain": [
              "0.9757369756698608"
            ]
          },
          "metadata": {
            "tags": []
          },
          "execution_count": 9
        }
      ]
    },
    {
      "cell_type": "code",
      "metadata": {
        "id": "cuF5PY-zqKml",
        "colab_type": "code",
        "colab": {}
      },
      "source": [
        "def func_obj(params):\n",
        "  model = get_cnn_v5(input_shape, num_classes)\n",
        "  model.compile(loss='categorical_crossentropy', optimizer='Adam', metrics=['accuracy'])\n",
        "\n",
        "  model.fit(\n",
        "      X_train,\n",
        "      y_train,\n",
        "      batch_size=int(params.get('batch_size', 128)),\n",
        "      epochs=7,\n",
        "      verbose=0\n",
        "  )\n",
        "\n",
        "  accuracy = model.evaluate(X_test, y_test)[0]\n",
        "  print(params, 'accuracy={}'.format(accuracy))\n",
        "\n",
        "  return {'loss': -accuracy, 'status': STATUS_OK, 'model': model}"
      ],
      "execution_count": 0,
      "outputs": []
    },
    {
      "cell_type": "code",
      "metadata": {
        "id": "5NCszb1iuG6G",
        "colab_type": "code",
        "outputId": "9dc1bb1e-2dc1-4d42-b7f3-fabc0b79d69f",
        "colab": {
          "base_uri": "https://localhost:8080/",
          "height": 348
        }
      },
      "source": [
        "space ={\n",
        "    'batch_size': hp.quniform('batch_size', 50, 200, 20)\n",
        "}\n",
        "\n",
        "best = fmin(\n",
        "    func_obj,\n",
        "    space,\n",
        "    tpe.suggest,\n",
        "    1,\n",
        "    Trials()\n",
        ")"
      ],
      "execution_count": 11,
      "outputs": [
        {
          "output_type": "stream",
          "text": [
            "  1/138 [..............................]\n",
            " - ETA: 0s - loss: 1.2967 - accuracy: 0.6875\n",
            "\b\b\b\b\b\b\b\b\b\b\b\b\b\b\b\b\b\b\b\b\b\b\b\b\b\b\b\b\b\b\b\b\b\b\b\b\b\b\b\b\b\b\b\b\b\b\b\b\b\b\b\b\b\b\b\b\b\b\b\b\b\b\b\b\b\b\b\b\b\b\b\b\b\b\b\b\b\b\b\b\b\b\b\b\n",
            " 13/138 [=>............................]\n",
            " - ETA: 0s - loss: 0.1522 - accuracy: 0.9591\n",
            "\b\b\b\b\b\b\b\b\b\b\b\b\b\b\b\b\b\b\b\b\b\b\b\b\b\b\b\b\b\b\b\b\b\b\b\b\b\b\b\b\b\b\b\b\b\b\b\b\b\b\b\b\b\b\b\b\b\b\b\b\b\b\b\b\b\b\b\b\b\b\b\b\b\b\b\b\b\b\b\b\b\b\b\b\n",
            " 26/138 [====>.........................]\n",
            " - ETA: 0s - loss: 1.0394 - accuracy: 0.9195\n",
            "\b\b\b\b\b\b\b\b\b\b\b\b\b\b\b\b\b\b\b\b\b\b\b\b\b\b\b\b\b\b\b\b\b\b\b\b\b\b\b\b\b\b\b\b\b\b\b\b\b\b\b\b\b\b\b\b\b\b\b\b\b\b\b\b\b\b\b\b\b\b\b\b\b\b\b\b\b\b\b\b\b\b\b\b\n",
            " 37/138 [=======>......................]\n",
            " - ETA: 0s - loss: 0.7370 - accuracy: 0.9417\n",
            "\b\b\b\b\b\b\b\b\b\b\b\b\b\b\b\b\b\b\b\b\b\b\b\b\b\b\b\b\b\b\b\b\b\b\b\b\b\b\b\b\b\b\b\b\b\b\b\b\b\b\b\b\b\b\b\b\b\b\b\b\b\b\b\b\b\b\b\b\b\b\b\b\b\b\b\b\b\b\b\b\b\b\b\b\n",
            " 45/138 [========>.....................]\n",
            " - ETA: 0s - loss: 0.6445 - accuracy: 0.9375\n",
            "\b\b\b\b\b\b\b\b\b\b\b\b\b\b\b\b\b\b\b\b\b\b\b\b\b\b\b\b\b\b\b\b\b\b\b\b\b\b\b\b\b\b\b\b\b\b\b\b\b\b\b\b\b\b\b\b\b\b\b\b\b\b\b\b\b\b\b\b\b\b\b\b\b\b\b\b\b\b\b\b\b\b\b\b\n",
            " 58/138 [===========>..................]\n",
            " - ETA: 0s - loss: 0.5328 - accuracy: 0.9391\n",
            "\b\b\b\b\b\b\b\b\b\b\b\b\b\b\b\b\b\b\b\b\b\b\b\b\b\b\b\b\b\b\b\b\b\b\b\b\b\b\b\b\b\b\b\b\b\b\b\b\b\b\b\b\b\b\b\b\b\b\b\b\b\b\b\b\b\b\b\b\b\b\b\b\b\b\b\b\b\b\b\b\b\b\b\b\n",
            " 72/138 [==============>...............]\n",
            " - ETA: 0s - loss: 0.4527 - accuracy: 0.9444\n",
            "\b\b\b\b\b\b\b\b\b\b\b\b\b\b\b\b\b\b\b\b\b\b\b\b\b\b\b\b\b\b\b\b\b\b\b\b\b\b\b\b\b\b\b\b\b\b\b\b\b\b\b\b\b\b\b\b\b\b\b\b\b\b\b\b\b\b\b\b\b\b\b\b\b\b\b\b\b\b\b\b\b\b\b\b\n",
            " 86/138 [=================>............]\n",
            " - ETA: 0s - loss: 0.3874 - accuracy: 0.9506\n",
            "\b\b\b\b\b\b\b\b\b\b\b\b\b\b\b\b\b\b\b\b\b\b\b\b\b\b\b\b\b\b\b\b\b\b\b\b\b\b\b\b\b\b\b\b\b\b\b\b\b\b\b\b\b\b\b\b\b\b\b\b\b\b\b\b\b\b\b\b\b\b\b\b\b\b\b\b\b\b\b\b\b\b\b\b\n",
            " 99/138 [====================>.........]\n",
            " - ETA: 0s - loss: 0.3439 - accuracy: 0.9542\n",
            "\b\b\b\b\b\b\b\b\b\b\b\b\b\b\b\b\b\b\b\b\b\b\b\b\b\b\b\b\b\b\b\b\b\b\b\b\b\b\b\b\b\b\b\b\b\b\b\b\b\b\b\b\b\b\b\b\b\b\b\b\b\b\b\b\b\b\b\b\b\b\b\b\b\b\b\b\b\b\b\b\b\b\b\b\n",
            "110/138 [======================>.......]\n",
            " - ETA: 0s - loss: 0.3342 - accuracy: 0.9526\n",
            "\b\b\b\b\b\b\b\b\b\b\b\b\b\b\b\b\b\b\b\b\b\b\b\b\b\b\b\b\b\b\b\b\b\b\b\b\b\b\b\b\b\b\b\b\b\b\b\b\b\b\b\b\b\b\b\b\b\b\b\b\b\b\b\b\b\b\b\b\b\b\b\b\b\b\b\b\b\b\b\b\b\b\b\b\n",
            "123/138 [=========================>....]\n",
            " - ETA: 0s - loss: 0.2990 - accuracy: 0.9576\n",
            "\b\b\b\b\b\b\b\b\b\b\b\b\b\b\b\b\b\b\b\b\b\b\b\b\b\b\b\b\b\b\b\b\b\b\b\b\b\b\b\b\b\b\b\b\b\b\b\b\b\b\b\b\b\b\b\b\b\b\b\b\b\b\b\b\b\b\b\b\b\b\b\b\b\b\b\b\b\b\b\b\b\b\b\b\n",
            "137/138 [============================>.]\n",
            " - ETA: 0s - loss: 0.2719 - accuracy: 0.9610\n",
            "\b\b\b\b\b\b\b\b\b\b\b\b\b\b\b\b\b\b\b\b\b\b\b\b\b\b\b\b\b\b\b\b\b\b\b\b\b\b\b\b\b\b\b\b\b\b\b\b\b\b\b\b\b\b\b\b\b\b\b\b\b\b\b\b\b\b\b\b\b\b\b\b\b\b\b\b\b\b\b\b\b\b\b\b\n",
            "138/138 [==============================]\n",
            " - 1s 4ms/step - loss: 0.2703 - accuracy: 0.9610\n",
            "\n",
            "{'batch_size': 80.0}\n",
            "accuracy=0.2702714502811432\n",
            "100%|██████████| 1/1 [00:22<00:00, 22.57s/it, best loss: -0.2702714502811432]\n"
          ],
          "name": "stdout"
        }
      ]
    },
    {
      "cell_type": "code",
      "metadata": {
        "id": "oAs2uQ4wxwuo",
        "colab_type": "code",
        "colab": {}
      },
      "source": [
        "def get_model(params):\n",
        "  return Sequential([\n",
        "    Conv2D(filters=32, kernel_size=(3, 3), activation='relu', input_shape=input_shape),\n",
        "    Conv2D(filters=32, kernel_size=(3, 3), activation='relu', padding='same'),\n",
        "    MaxPool2D(),\n",
        "    Dropout(params['dropout_cnn_block_one']),\n",
        "\n",
        "    Conv2D(filters=64, kernel_size=(3, 3), activation='relu', padding='same'),\n",
        "    Conv2D(filters=64, kernel_size=(3, 3), activation='relu'),\n",
        "    MaxPool2D(),\n",
        "    Dropout(params['dropout_cnn_block_two']),\n",
        "\n",
        "    Conv2D(filters=128, kernel_size=(3, 3), activation='relu', padding='same'),\n",
        "    Conv2D(filters=128, kernel_size=(3, 3), activation='relu'),\n",
        "    MaxPool2D(),\n",
        "    Dropout(params['dropout_cnn_block_three']),\n",
        "    \n",
        "    Flatten(),\n",
        "\n",
        "    Dense(1024, activation='relu'),\n",
        "    Dropout(params['dropout_dense_block_one']),\n",
        "\n",
        "    Dense(1024, activation='relu'),\n",
        "    Dropout(params['dropout_dense_block_two']),\n",
        "\n",
        "    Dense(num_classes, activation='softmax'), \n",
        "  ])"
      ],
      "execution_count": 0,
      "outputs": []
    },
    {
      "cell_type": "code",
      "metadata": {
        "id": "ixrSgfyPzgFt",
        "colab_type": "code",
        "colab": {}
      },
      "source": [
        "def func_obj(params):\n",
        "  model = get_model(params)\n",
        "  model.compile(loss='categorical_crossentropy', optimizer='Adam', metrics=['accuracy'])\n",
        "\n",
        "  model.fit(\n",
        "      X_train,\n",
        "      y_train,\n",
        "      batch_size=int(params.get('batch_size', 128)),\n",
        "      epochs=5,\n",
        "      verbose=0\n",
        "  )\n",
        "\n",
        "  score = model.evaluate(X_test, y_test, verbose=0)\n",
        "  accuracy = score[1]\n",
        "  print(params, 'acuracy={}'.format(accuracy))\n",
        "\n",
        "  return {'loss':-accuracy, 'status':STATUS_OK, 'model':model}"
      ],
      "execution_count": 0,
      "outputs": []
    },
    {
      "cell_type": "code",
      "metadata": {
        "id": "5bwGl7Yrz1K1",
        "colab_type": "code",
        "outputId": "5bd73b66-522e-4b86-aca4-016c6033096f",
        "colab": {
          "base_uri": "https://localhost:8080/",
          "height": 1000
        }
      },
      "source": [
        "space ={\n",
        "    'batch_size': hp.quniform('batch_size', 100, 200, 10),\n",
        "    'dropout_cnn_block_one': hp.uniform('dropout_cnn_block_one', 0.3, 0.5),\n",
        "    'dropout_cnn_block_two': hp.uniform('dropout_cnn_block_two', 0.3, 0.5),\n",
        "    'dropout_cnn_block_three': hp.uniform('dropout_cnn_block_three', 0.3, 0.5),\n",
        "\n",
        "    'dropout_dense_block_one': hp.uniform('dropout_dense_block_one', 0.3, 0.7),\n",
        "    'dropout_dense_block_two': hp.uniform('dropout_dense_block_two', 0.3, 0.7),\n",
        "}\n",
        "\n",
        "best = fmin(\n",
        "    func_obj,\n",
        "    space,\n",
        "    tpe.suggest,\n",
        "    30,\n",
        "    Trials()\n",
        ")"
      ],
      "execution_count": 14,
      "outputs": [
        {
          "output_type": "stream",
          "text": [
            "{'batch_size': 180.0, 'dropout_cnn_block_one': 0.3083858421856321, 'dropout_cnn_block_three': 0.33474519856135215, 'dropout_cnn_block_two': 0.41788606758004154, 'dropout_dense_block_one': 0.35333866300859224, 'dropout_dense_block_two': 0.44079068169569174}\n",
            "acuracy=0.9530612230300903\n",
            "{'batch_size': 160.0, 'dropout_cnn_block_one': 0.4750125584114768, 'dropout_cnn_block_three': 0.47007297085475663, 'dropout_cnn_block_two': 0.39167163470710664, 'dropout_dense_block_one': 0.5286660440881525, 'dropout_dense_block_two': 0.577774167180894}\n",
            "acuracy=0.8603174686431885\n",
            "{'batch_size': 160.0, 'dropout_cnn_block_one': 0.36638419742241474, 'dropout_cnn_block_three': 0.4801521771846162, 'dropout_cnn_block_two': 0.344757085341562, 'dropout_dense_block_one': 0.48139979173989533, 'dropout_dense_block_two': 0.581963632289191}\n",
            "acuracy=0.9414966106414795\n",
            "{'batch_size': 150.0, 'dropout_cnn_block_one': 0.4839205374226662, 'dropout_cnn_block_three': 0.3170885408638017, 'dropout_cnn_block_two': 0.4224207342369711, 'dropout_dense_block_one': 0.36960870499825305, 'dropout_dense_block_two': 0.4540602174361034}\n",
            "acuracy=0.9306122660636902\n",
            "{'batch_size': 110.0, 'dropout_cnn_block_one': 0.3971558891840287, 'dropout_cnn_block_three': 0.48478250506756565, 'dropout_cnn_block_two': 0.48974313001866665, 'dropout_dense_block_one': 0.3044944156371212, 'dropout_dense_block_two': 0.39420379060293964}\n",
            "acuracy=0.9387755393981934\n",
            "{'batch_size': 160.0, 'dropout_cnn_block_one': 0.35915961814500624, 'dropout_cnn_block_three': 0.39898056278799354, 'dropout_cnn_block_two': 0.3166722452656123, 'dropout_dense_block_one': 0.4306327174832031, 'dropout_dense_block_two': 0.5250022804325937}\n",
            "acuracy=0.961904764175415\n",
            "{'batch_size': 180.0, 'dropout_cnn_block_one': 0.34179058876341467, 'dropout_cnn_block_three': 0.3927434609104702, 'dropout_cnn_block_two': 0.41910120106646304, 'dropout_dense_block_one': 0.637249639283765, 'dropout_dense_block_two': 0.49852668995565186}\n",
            "acuracy=0.9043083786964417\n",
            "{'batch_size': 170.0, 'dropout_cnn_block_one': 0.4228555109971266, 'dropout_cnn_block_three': 0.4205257428722208, 'dropout_cnn_block_two': 0.4840971190729026, 'dropout_dense_block_one': 0.3394224585428669, 'dropout_dense_block_two': 0.5373672826381487}\n",
            "acuracy=0.7009070515632629\n",
            "{'batch_size': 160.0, 'dropout_cnn_block_one': 0.3841081357037213, 'dropout_cnn_block_three': 0.31668918596990436, 'dropout_cnn_block_two': 0.3338235134773115, 'dropout_dense_block_one': 0.49401561866385224, 'dropout_dense_block_two': 0.5131044179559398}\n",
            "acuracy=0.9505668878555298\n",
            "{'batch_size': 170.0, 'dropout_cnn_block_one': 0.4151029717755722, 'dropout_cnn_block_three': 0.3633894046301926, 'dropout_cnn_block_two': 0.35933019912450315, 'dropout_dense_block_one': 0.6194022292534622, 'dropout_dense_block_two': 0.6923856742066576}\n",
            "acuracy=0.9154195189476013\n",
            "{'batch_size': 120.0, 'dropout_cnn_block_one': 0.450889475480915, 'dropout_cnn_block_three': 0.3645826881556414, 'dropout_cnn_block_two': 0.4215246626066128, 'dropout_dense_block_one': 0.6410556009526482, 'dropout_dense_block_two': 0.4269403246104626}\n",
            "acuracy=0.922448992729187\n",
            "{'batch_size': 140.0, 'dropout_cnn_block_one': 0.4790807365255033, 'dropout_cnn_block_three': 0.49400881424725396, 'dropout_cnn_block_two': 0.4205345439804191, 'dropout_dense_block_one': 0.605960446767974, 'dropout_dense_block_two': 0.6215230414931261}\n",
            "acuracy=0.7562358379364014\n",
            "{'batch_size': 120.0, 'dropout_cnn_block_one': 0.44018825655198324, 'dropout_cnn_block_three': 0.4668549124346944, 'dropout_cnn_block_two': 0.45744546701309186, 'dropout_dense_block_one': 0.42151475145691064, 'dropout_dense_block_two': 0.5152173037694217}\n",
            "acuracy=0.9537414908409119\n",
            "{'batch_size': 150.0, 'dropout_cnn_block_one': 0.42121562563696124, 'dropout_cnn_block_three': 0.31273295518492333, 'dropout_cnn_block_two': 0.4731112645031693, 'dropout_dense_block_one': 0.6903997145737365, 'dropout_dense_block_two': 0.5586909069456487}\n",
            "acuracy=0.8863945603370667\n",
            "{'batch_size': 170.0, 'dropout_cnn_block_one': 0.46227858449344617, 'dropout_cnn_block_three': 0.46666472878983656, 'dropout_cnn_block_two': 0.35399677213912895, 'dropout_dense_block_one': 0.38416121604220743, 'dropout_dense_block_two': 0.46101020996099534}\n",
            "acuracy=0.8730158805847168\n",
            "{'batch_size': 120.0, 'dropout_cnn_block_one': 0.37499184734749924, 'dropout_cnn_block_three': 0.45269359863792535, 'dropout_cnn_block_two': 0.49247669832693175, 'dropout_dense_block_one': 0.4460701516907555, 'dropout_dense_block_two': 0.3751179211385709}\n",
            "acuracy=0.882993221282959\n",
            "{'batch_size': 150.0, 'dropout_cnn_block_one': 0.44962756186138775, 'dropout_cnn_block_three': 0.4472305607991826, 'dropout_cnn_block_two': 0.44084820228669985, 'dropout_dense_block_one': 0.6098344796942123, 'dropout_dense_block_two': 0.6130456591303366}\n",
            "acuracy=0.9036281108856201\n",
            "{'batch_size': 140.0, 'dropout_cnn_block_one': 0.36854990505743235, 'dropout_cnn_block_three': 0.4108320970139697, 'dropout_cnn_block_two': 0.40014979949853713, 'dropout_dense_block_one': 0.39118810791924086, 'dropout_dense_block_two': 0.5751671546823253}\n",
            "acuracy=0.9147392511367798\n",
            "{'batch_size': 170.0, 'dropout_cnn_block_one': 0.4056723560588352, 'dropout_cnn_block_three': 0.30748070479514417, 'dropout_cnn_block_two': 0.33768374452995825, 'dropout_dense_block_one': 0.6161485879155506, 'dropout_dense_block_two': 0.6230114290722519}\n",
            "acuracy=0.9396825432777405\n",
            "{'batch_size': 160.0, 'dropout_cnn_block_one': 0.3364050824814277, 'dropout_cnn_block_three': 0.39492259248593353, 'dropout_cnn_block_two': 0.4017535595088178, 'dropout_dense_block_one': 0.38719716314315766, 'dropout_dense_block_two': 0.5128981350910657}\n",
            "acuracy=0.9235827922821045\n",
            "{'batch_size': 200.0, 'dropout_cnn_block_one': 0.34377805117211396, 'dropout_cnn_block_three': 0.42858694911573475, 'dropout_cnn_block_two': 0.30305031024548446, 'dropout_dense_block_one': 0.4385387748300219, 'dropout_dense_block_two': 0.6869078662305321}\n",
            "acuracy=0.9365079402923584\n",
            "{'batch_size': 130.0, 'dropout_cnn_block_one': 0.3072582058378087, 'dropout_cnn_block_three': 0.35917267308219347, 'dropout_cnn_block_two': 0.4550203698092791, 'dropout_dense_block_one': 0.5500585980876342, 'dropout_dense_block_two': 0.34765945105626705}\n",
            "acuracy=0.9303854703903198\n",
            "{'batch_size': 100.0, 'dropout_cnn_block_one': 0.43835281656973946, 'dropout_cnn_block_three': 0.38547680914377747, 'dropout_cnn_block_two': 0.30100607046166267, 'dropout_dense_block_one': 0.4362861910311786, 'dropout_dense_block_two': 0.3103045164750699}\n",
            "acuracy=0.9412698149681091\n",
            "{'batch_size': 190.0, 'dropout_cnn_block_one': 0.3552845782995187, 'dropout_cnn_block_three': 0.4355403366319222, 'dropout_cnn_block_two': 0.3754083146428664, 'dropout_dense_block_one': 0.3054675362039395, 'dropout_dense_block_two': 0.4939377068758287}\n",
            "acuracy=0.9065759778022766\n",
            "{'batch_size': 130.0, 'dropout_cnn_block_one': 0.3915846068128133, 'dropout_cnn_block_three': 0.37847787397144744, 'dropout_cnn_block_two': 0.31399135394050764, 'dropout_dense_block_one': 0.4141237427204766, 'dropout_dense_block_two': 0.6670196553015648}\n",
            "acuracy=0.9378684759140015\n",
            "{'batch_size': 100.0, 'dropout_cnn_block_one': 0.3199944036079117, 'dropout_cnn_block_three': 0.4071793720057188, 'dropout_cnn_block_two': 0.4608968559689468, 'dropout_dense_block_one': 0.47323434116139496, 'dropout_dense_block_two': 0.5403505461417354}\n",
            "acuracy=0.9541950225830078\n",
            "{'batch_size': 200.0, 'dropout_cnn_block_one': 0.32218224258045636, 'dropout_cnn_block_three': 0.41316027276292805, 'dropout_cnn_block_two': 0.3206947905522676, 'dropout_dense_block_one': 0.5546176123668135, 'dropout_dense_block_two': 0.47249342142481165}\n",
            "acuracy=0.9455782175064087\n",
            "{'batch_size': 140.0, 'dropout_cnn_block_one': 0.3243178100063088, 'dropout_cnn_block_three': 0.4032001100478795, 'dropout_cnn_block_two': 0.3778660904650926, 'dropout_dense_block_one': 0.47429098881064674, 'dropout_dense_block_two': 0.6546259521192466}\n",
            "acuracy=0.9512471556663513\n",
            "{'batch_size': 100.0, 'dropout_cnn_block_one': 0.3051267693950311, 'dropout_cnn_block_three': 0.34750505089026895, 'dropout_cnn_block_two': 0.44081881897836145, 'dropout_dense_block_one': 0.5211557696906066, 'dropout_dense_block_two': 0.541391381488711}\n",
            "acuracy=0.9591836929321289\n",
            "{'batch_size': 180.0, 'dropout_cnn_block_one': 0.30280727795636714, 'dropout_cnn_block_three': 0.3449938027614946, 'dropout_cnn_block_two': 0.4373971496211017, 'dropout_dense_block_one': 0.5244273235573602, 'dropout_dense_block_two': 0.42608030264537977}\n",
            "acuracy=0.9297052025794983\n",
            "100%|██████████| 30/30 [07:44<00:00, 15.48s/it, best loss: -0.961904764175415]\n"
          ],
          "name": "stdout"
        }
      ]
    },
    {
      "cell_type": "code",
      "metadata": {
        "id": "YXlFkvTO6kan",
        "colab_type": "code",
        "colab": {}
      },
      "source": [
        "def func_obj(params):\n",
        "  model = get_model(params)\n",
        "  model.compile(loss='categorical_crossentropy', optimizer='Adam', metrics=['accuracy'])\n",
        "\n",
        "  model.fit(\n",
        "      X_train,\n",
        "      y_train,\n",
        "      batch_size=int(params.get('batch_size', 128)),\n",
        "      epochs=5,\n",
        "      verbose=0,\n",
        "  )\n",
        "\n",
        "  score = model.evaluate(X_test, y_test, verbose=0)\n",
        "  accuracy = score[1]\n",
        "  print(params, 'acuracy={}'.format(accuracy))\n",
        "\n",
        "  return {'loss':-accuracy, 'status':STATUS_OK, 'model':model}"
      ],
      "execution_count": 0,
      "outputs": []
    },
    {
      "cell_type": "code",
      "metadata": {
        "id": "3cznAaKC6pFH",
        "colab_type": "code",
        "colab": {
          "base_uri": "https://localhost:8080/",
          "height": 1000
        },
        "outputId": "9c781427-a669-4793-dc18-22993edbf0a2"
      },
      "source": [
        "space = {\n",
        "    'batch_size': hp.quniform('batch_size', 50, 200, 20),\n",
        "    'dropout_cnn_block_one':hp.uniform('dropout_cnn_block_one', 0, 1),\n",
        "    'dropout_cnn_block_two':hp.uniform('dropout_cnn_block_two', 0, 1),\n",
        "    'dropout_cnn_block_three':hp.uniform('dropout_cnn_block_three', 0, 1),\n",
        "\n",
        "    'dropout_dense_block_one':hp.uniform('dropout_dense_block_one', 0, 1),\n",
        "    'dropout_dense_block_two':hp.uniform('dropout_dense_block_two', 0, 1),\n",
        "}\n",
        "\n",
        "best = fmin(\n",
        "     func_obj,\n",
        "     space,\n",
        "     tpe.suggest,\n",
        "     30,\n",
        "     Trials()\n",
        ")\n",
        "# ten sam kod z innymi parametrami w 'batch_size' daje gorszy wynik"
      ],
      "execution_count": 16,
      "outputs": [
        {
          "output_type": "stream",
          "text": [
            "{'batch_size': 160.0, 'dropout_cnn_block_one': 0.1646975043392781, 'dropout_cnn_block_three': 0.37184778964336396, 'dropout_cnn_block_two': 0.7457712038170082, 'dropout_dense_block_one': 0.30364844324588836, 'dropout_dense_block_two': 0.15313040032013636}\n",
            "acuracy=0.9138321876525879\n",
            "{'batch_size': 200.0, 'dropout_cnn_block_one': 0.4895437130354645, 'dropout_cnn_block_three': 0.4799621401191222, 'dropout_cnn_block_two': 0.20954904999386792, 'dropout_dense_block_one': 0.7993692000876207, 'dropout_dense_block_two': 0.8054353231335251}\n",
            "acuracy=0.4095238149166107\n",
            "{'batch_size': 140.0, 'dropout_cnn_block_one': 0.33685169397172887, 'dropout_cnn_block_three': 0.8552379286145879, 'dropout_cnn_block_two': 0.1876887910324717, 'dropout_dense_block_one': 0.03473725606403533, 'dropout_dense_block_two': 0.14078032415063624}\n",
            "acuracy=0.7158730030059814\n",
            "{'batch_size': 120.0, 'dropout_cnn_block_one': 0.5536534239901093, 'dropout_cnn_block_three': 0.8155175705908947, 'dropout_cnn_block_two': 0.5989062193968797, 'dropout_dense_block_one': 0.07297145422690787, 'dropout_dense_block_two': 0.9949782212357882}\n",
            "acuracy=0.054421767592430115\n",
            "{'batch_size': 200.0, 'dropout_cnn_block_one': 0.3912442056185038, 'dropout_cnn_block_three': 0.8661838181806136, 'dropout_cnn_block_two': 0.2813101284691185, 'dropout_dense_block_one': 0.28241793236845525, 'dropout_dense_block_two': 0.8951091521757869}\n",
            "acuracy=0.23287981748580933\n",
            "{'batch_size': 60.0, 'dropout_cnn_block_one': 0.6920161777062487, 'dropout_cnn_block_three': 0.6539425144717538, 'dropout_cnn_block_two': 0.5922459679303014, 'dropout_dense_block_one': 0.9948136056804824, 'dropout_dense_block_two': 0.41561323284038887}\n",
            "acuracy=0.0476190485060215\n",
            "{'batch_size': 60.0, 'dropout_cnn_block_one': 0.38520648641965716, 'dropout_cnn_block_three': 0.905829903313963, 'dropout_cnn_block_two': 0.14751319647901628, 'dropout_dense_block_one': 0.7414845829574158, 'dropout_dense_block_two': 0.8052523997735351}\n",
            "acuracy=0.230158731341362\n",
            "{'batch_size': 60.0, 'dropout_cnn_block_one': 0.35331939151576386, 'dropout_cnn_block_three': 0.10937436682092905, 'dropout_cnn_block_two': 0.5239152691218097, 'dropout_dense_block_one': 0.8950555574517145, 'dropout_dense_block_two': 0.4186187108867415}\n",
            "acuracy=0.8276643753051758\n",
            "{'batch_size': 180.0, 'dropout_cnn_block_one': 0.7572124803664629, 'dropout_cnn_block_three': 0.09558826198480841, 'dropout_cnn_block_two': 0.8313399343197532, 'dropout_dense_block_one': 0.17646069578830093, 'dropout_dense_block_two': 0.5637677157196072}\n",
            "acuracy=0.26938775181770325\n",
            "{'batch_size': 100.0, 'dropout_cnn_block_one': 0.7654551240155402, 'dropout_cnn_block_three': 0.46633492778098573, 'dropout_cnn_block_two': 0.6006471494309786, 'dropout_dense_block_one': 0.3574145163888591, 'dropout_dense_block_two': 0.027204072277381752}\n",
            "acuracy=0.32789117097854614\n",
            "{'batch_size': 100.0, 'dropout_cnn_block_one': 0.9139946051671922, 'dropout_cnn_block_three': 0.26916168127068274, 'dropout_cnn_block_two': 0.7120035350433135, 'dropout_dense_block_one': 0.48733400055084064, 'dropout_dense_block_two': 0.04369133878258136}\n",
            "acuracy=0.2750566899776459\n",
            "{'batch_size': 160.0, 'dropout_cnn_block_one': 0.37911717720544613, 'dropout_cnn_block_three': 0.8776879398984222, 'dropout_cnn_block_two': 0.9577185983623396, 'dropout_dense_block_one': 0.2082609131275166, 'dropout_dense_block_two': 0.3840455517426361}\n",
            "acuracy=0.054421767592430115\n",
            "{'batch_size': 60.0, 'dropout_cnn_block_one': 0.4457206870112478, 'dropout_cnn_block_three': 0.4739354600688058, 'dropout_cnn_block_two': 0.46554973747678663, 'dropout_dense_block_one': 0.30429007556437315, 'dropout_dense_block_two': 0.25297993423561893}\n",
            "acuracy=0.8750566840171814\n",
            "{'batch_size': 60.0, 'dropout_cnn_block_one': 0.745887128744417, 'dropout_cnn_block_three': 0.3905987279492741, 'dropout_cnn_block_two': 0.24595992849311543, 'dropout_dense_block_one': 0.21328406808388733, 'dropout_dense_block_two': 0.02742931068065535}\n",
            "acuracy=0.945805013179779\n",
            "{'batch_size': 80.0, 'dropout_cnn_block_one': 0.9285234872879538, 'dropout_cnn_block_three': 0.07737314541701501, 'dropout_cnn_block_two': 0.7939439571981999, 'dropout_dense_block_one': 0.49953915501382284, 'dropout_dense_block_two': 0.2573713296456426}\n",
            "acuracy=0.23673468828201294\n",
            "{'batch_size': 120.0, 'dropout_cnn_block_one': 0.7689772223928527, 'dropout_cnn_block_three': 0.7739954310152757, 'dropout_cnn_block_two': 0.2806914070032337, 'dropout_dense_block_one': 0.11804759153834776, 'dropout_dense_block_two': 0.6075184658220476}\n",
            "acuracy=0.4346938729286194\n",
            "{'batch_size': 120.0, 'dropout_cnn_block_one': 0.6496344278940605, 'dropout_cnn_block_three': 0.7180134797365193, 'dropout_cnn_block_two': 0.08054532663234937, 'dropout_dense_block_one': 0.8019836163587569, 'dropout_dense_block_two': 0.6807209382277721}\n",
            "acuracy=0.2537415027618408\n",
            "{'batch_size': 80.0, 'dropout_cnn_block_one': 0.6372504329797608, 'dropout_cnn_block_three': 0.1314522978563497, 'dropout_cnn_block_two': 0.03573024409630621, 'dropout_dense_block_one': 0.35236298746314054, 'dropout_dense_block_two': 0.9713699929055679}\n",
            "acuracy=0.3353741466999054\n",
            "{'batch_size': 160.0, 'dropout_cnn_block_one': 0.4086980333321909, 'dropout_cnn_block_three': 0.8785726009720639, 'dropout_cnn_block_two': 0.8127470975308803, 'dropout_dense_block_one': 0.1370007762075347, 'dropout_dense_block_two': 0.05261182721619462}\n",
            "acuracy=0.10770975053310394\n",
            "{'batch_size': 200.0, 'dropout_cnn_block_one': 0.27579171024900495, 'dropout_cnn_block_three': 0.9167820849170899, 'dropout_cnn_block_two': 0.4907472046434228, 'dropout_dense_block_one': 0.2591806674876448, 'dropout_dense_block_two': 0.293469774281509}\n",
            "acuracy=0.29002267122268677\n",
            "{'batch_size': 160.0, 'dropout_cnn_block_one': 0.019490983751604546, 'dropout_cnn_block_three': 0.2853489929991646, 'dropout_cnn_block_two': 0.9997989906138689, 'dropout_dense_block_one': 0.44050908849922665, 'dropout_dense_block_two': 0.15476654519192387}\n",
            "acuracy=0.05306122452020645\n",
            "{'batch_size': 140.0, 'dropout_cnn_block_one': 0.14819447723821502, 'dropout_cnn_block_three': 0.3239525015488521, 'dropout_cnn_block_two': 0.36553930355557895, 'dropout_dense_block_one': 0.6311033892179746, 'dropout_dense_block_two': 0.13382364262629337}\n",
            "acuracy=0.9643990993499756\n",
            "{'batch_size': 140.0, 'dropout_cnn_block_one': 0.01629876123995322, 'dropout_cnn_block_three': 0.591746647412915, 'dropout_cnn_block_two': 0.36840695129677115, 'dropout_dense_block_one': 0.6071769311089775, 'dropout_dense_block_two': 0.016407660926458276}\n",
            "acuracy=0.9555555582046509\n",
            "{'batch_size': 140.0, 'dropout_cnn_block_one': 0.026301774441439132, 'dropout_cnn_block_three': 0.5521352805862865, 'dropout_cnn_block_two': 0.35978561007941245, 'dropout_dense_block_one': 0.6286296227868893, 'dropout_dense_block_two': 0.11345827821603445}\n",
            "acuracy=0.9732426404953003\n",
            "{'batch_size': 140.0, 'dropout_cnn_block_one': 0.1329182593556206, 'dropout_cnn_block_three': 0.5771260097765891, 'dropout_cnn_block_two': 0.3499916213858934, 'dropout_dense_block_one': 0.6212493996056038, 'dropout_dense_block_two': 0.347341659218038}\n",
            "acuracy=0.9589568972587585\n",
            "{'batch_size': 180.0, 'dropout_cnn_block_one': 0.13222042500095849, 'dropout_cnn_block_three': 0.22044236672587025, 'dropout_cnn_block_two': 0.40144802497328014, 'dropout_dense_block_one': 0.5807195273764139, 'dropout_dense_block_two': 0.1962003135793381}\n",
            "acuracy=0.9503401517868042\n",
            "{'batch_size': 100.0, 'dropout_cnn_block_one': 0.22909410981423822, 'dropout_cnn_block_three': 0.37728739613117934, 'dropout_cnn_block_two': 0.10413202475642958, 'dropout_dense_block_one': 0.6823993019947464, 'dropout_dense_block_two': 0.10195170515568996}\n",
            "acuracy=0.9646258354187012\n",
            "{'batch_size': 100.0, 'dropout_cnn_block_one': 0.06707088958482876, 'dropout_cnn_block_three': 0.5436887380490318, 'dropout_cnn_block_two': 0.10876461681505584, 'dropout_dense_block_one': 0.708507131796688, 'dropout_dense_block_two': 0.4649231227180655}\n",
            "acuracy=0.9730158448219299\n",
            "{'batch_size': 80.0, 'dropout_cnn_block_one': 0.0641015192435518, 'dropout_cnn_block_three': 0.6110951634124367, 'dropout_cnn_block_two': 0.019396570921358214, 'dropout_dense_block_one': 0.8628101120826805, 'dropout_dense_block_two': 0.4837465392822598}\n",
            "acuracy=0.8478457927703857\n",
            "{'batch_size': 100.0, 'dropout_cnn_block_one': 0.22799894806510998, 'dropout_cnn_block_three': 0.6830589698924572, 'dropout_cnn_block_two': 0.12518432700841672, 'dropout_dense_block_one': 0.9275642554519251, 'dropout_dense_block_two': 0.675222589341701}\n",
            "acuracy=0.4099773168563843\n",
            "100%|██████████| 30/30 [07:57<00:00, 15.90s/it, best loss: -0.9732426404953003]\n"
          ],
          "name": "stdout"
        }
      ]
    }
  ]
}