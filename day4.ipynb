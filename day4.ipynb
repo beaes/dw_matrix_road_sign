{
  "nbformat": 4,
  "nbformat_minor": 0,
  "metadata": {
    "colab": {
      "name": "day4.ipynb",
      "provenance": [],
      "collapsed_sections": [],
      "mount_file_id": "1BLr6VWxuM38l9u-BpUMZLrbhkOgPw3Z2",
      "authorship_tag": "ABX9TyPprT2pEX2qQNuDiMj6LXBY",
      "include_colab_link": true
    },
    "kernelspec": {
      "name": "python3",
      "display_name": "Python 3"
    },
    "accelerator": "GPU"
  },
  "cells": [
    {
      "cell_type": "markdown",
      "metadata": {
        "id": "view-in-github",
        "colab_type": "text"
      },
      "source": [
        "<a href=\"https://colab.research.google.com/github/beaes/dw_matrix_road_sign/blob/master/day4.ipynb\" target=\"_parent\"><img src=\"https://colab.research.google.com/assets/colab-badge.svg\" alt=\"Open In Colab\"/></a>"
      ]
    },
    {
      "cell_type": "code",
      "metadata": {
        "id": "uz9C96TKHzFT",
        "colab_type": "code",
        "colab": {
          "base_uri": "https://localhost:8080/",
          "height": 54
        },
        "outputId": "bca7b8eb-d0c7-4998-86cd-9cb68c3afb32"
      },
      "source": [
        "import pandas as pd\n",
        "import numpy as np\n",
        "import os\n",
        "import datetime\n",
        "\n",
        "import tensorflow as tf\n",
        "from tensorflow.keras.models import Sequential\n",
        "from tensorflow.keras.layers import Conv2D, MaxPool2D, Dense, Flatten, Dropout\n",
        "from tensorflow.keras.utils import to_categorical\n",
        "\n",
        "%load_ext tensorboard\n",
        "\n",
        "import matplotlib.pyplot as plt\n",
        "from skimage import color, exposure\n",
        "\n",
        "from sklearn.metrics import accuracy_score"
      ],
      "execution_count": 16,
      "outputs": [
        {
          "output_type": "stream",
          "text": [
            "The tensorboard extension is already loaded. To reload it, use:\n",
            "  %reload_ext tensorboard\n"
          ],
          "name": "stdout"
        }
      ]
    },
    {
      "cell_type": "code",
      "metadata": {
        "id": "mFLPXis1IvoB",
        "colab_type": "code",
        "outputId": "5d568d42-4946-44c2-eb70-cbc4fd01e3c4",
        "colab": {
          "base_uri": "https://localhost:8080/",
          "height": 35
        }
      },
      "source": [
        "cd 'drive/My Drive/Colab Notebooks/dw_matrix/matrix_three/dw_matrix_road_sign'"
      ],
      "execution_count": 2,
      "outputs": [
        {
          "output_type": "stream",
          "text": [
            "/content/drive/My Drive/Colab Notebooks/dw_matrix/matrix_three/dw_matrix_road_sign\n"
          ],
          "name": "stdout"
        }
      ]
    },
    {
      "cell_type": "code",
      "metadata": {
        "id": "2ei7mKOzIzGq",
        "colab_type": "code",
        "outputId": "d8be0168-b761-4d7b-e17c-b10ace8b5f48",
        "colab": {
          "base_uri": "https://localhost:8080/",
          "height": 35
        }
      },
      "source": [
        "train = pd.read_pickle('data/train.p')\n",
        "test = pd.read_pickle('data/test.p')\n",
        "\n",
        "X_train, y_train = train['features'], train['labels']\n",
        "X_test, y_test = test['features'], test['labels']\n",
        "\n",
        "y_train"
      ],
      "execution_count": 5,
      "outputs": [
        {
          "output_type": "execute_result",
          "data": {
            "text/plain": [
              "array([41, 41, 41, ..., 25, 25, 25], dtype=uint8)"
            ]
          },
          "metadata": {
            "tags": []
          },
          "execution_count": 5
        }
      ]
    },
    {
      "cell_type": "code",
      "metadata": {
        "id": "0lPsp-JSJKCx",
        "colab_type": "code",
        "outputId": "f59478c2-e94f-4891-ea77-7a76906bd658",
        "colab": {
          "base_uri": "https://localhost:8080/",
          "height": 35
        }
      },
      "source": [
        "len(np.unique(y_train))"
      ],
      "execution_count": 6,
      "outputs": [
        {
          "output_type": "execute_result",
          "data": {
            "text/plain": [
              "43"
            ]
          },
          "metadata": {
            "tags": []
          },
          "execution_count": 6
        }
      ]
    },
    {
      "cell_type": "code",
      "metadata": {
        "id": "ru0UduwFKPia",
        "colab_type": "code",
        "outputId": "9a9b1bce-0fa5-4c36-d29f-4dd3ee5d7313",
        "colab": {
          "base_uri": "https://localhost:8080/",
          "height": 35
        }
      },
      "source": [
        "y_train.shape"
      ],
      "execution_count": 7,
      "outputs": [
        {
          "output_type": "execute_result",
          "data": {
            "text/plain": [
              "(34799,)"
            ]
          },
          "metadata": {
            "tags": []
          },
          "execution_count": 7
        }
      ]
    },
    {
      "cell_type": "code",
      "metadata": {
        "id": "wrcSmIbZKSLx",
        "colab_type": "code",
        "outputId": "232c400b-6a23-40cc-af46-0d2fe97872db",
        "colab": {
          "base_uri": "https://localhost:8080/",
          "height": 35
        }
      },
      "source": [
        "X_train.shape"
      ],
      "execution_count": 8,
      "outputs": [
        {
          "output_type": "execute_result",
          "data": {
            "text/plain": [
              "(34799, 32, 32, 3)"
            ]
          },
          "metadata": {
            "tags": []
          },
          "execution_count": 8
        }
      ]
    },
    {
      "cell_type": "code",
      "metadata": {
        "id": "XXy-XQhTLoTC",
        "colab_type": "code",
        "outputId": "eb2f405d-2414-47e9-ce4a-40db6d726183",
        "colab": {
          "base_uri": "https://localhost:8080/",
          "height": 274
        }
      },
      "source": [
        "if y_train.ndim == 1: y_train = to_categorical(y_train)\n",
        "if y_test.ndim == 1: y_test = to_categorical(y_test)\n",
        "\n",
        "input_shape = X_train.shape[1:]\n",
        "num_classes = y_train.shape[1]\n",
        "\n",
        "model = Sequential([\n",
        "    Conv2D(filters=64, kernel_size=(3, 3), activation='relu', input_shape=input_shape),\n",
        "    Flatten(),\n",
        "    Dense(num_classes, activation='softmax'),              \n",
        "])\n",
        "\n",
        "model.summary()"
      ],
      "execution_count": 9,
      "outputs": [
        {
          "output_type": "stream",
          "text": [
            "Model: \"sequential\"\n",
            "_________________________________________________________________\n",
            "Layer (type)                 Output Shape              Param #   \n",
            "=================================================================\n",
            "conv2d (Conv2D)              (None, 30, 30, 64)        1792      \n",
            "_________________________________________________________________\n",
            "flatten (Flatten)            (None, 57600)             0         \n",
            "_________________________________________________________________\n",
            "dense (Dense)                (None, 43)                2476843   \n",
            "=================================================================\n",
            "Total params: 2,478,635\n",
            "Trainable params: 2,478,635\n",
            "Non-trainable params: 0\n",
            "_________________________________________________________________\n"
          ],
          "name": "stdout"
        }
      ]
    },
    {
      "cell_type": "code",
      "metadata": {
        "id": "axTTsHLlL2U_",
        "colab_type": "code",
        "outputId": "8929439c-a534-4512-fb84-332ddf3d045b",
        "colab": {
          "base_uri": "https://localhost:8080/",
          "height": 54
        }
      },
      "source": [
        "model.compile(loss='categorical_crossentropy', optimizer='Adam', metrics=['accuracy'])\n",
        "model.fit(X_train, y_train)"
      ],
      "execution_count": 10,
      "outputs": [
        {
          "output_type": "stream",
          "text": [
            "1088/1088 [==============================] - 3s 3ms/step - loss: 12.6091 - accuracy: 0.7833\n"
          ],
          "name": "stdout"
        },
        {
          "output_type": "execute_result",
          "data": {
            "text/plain": [
              "<tensorflow.python.keras.callbacks.History at 0x7ff1b049f2b0>"
            ]
          },
          "metadata": {
            "tags": []
          },
          "execution_count": 10
        }
      ]
    },
    {
      "cell_type": "markdown",
      "metadata": {
        "id": "beE5JjvQNFwB",
        "colab_type": "text"
      },
      "source": [
        "# powyższy model wrzucamy do funkcji\n"
      ]
    },
    {
      "cell_type": "code",
      "metadata": {
        "id": "-MQ4bVRqNMLS",
        "colab_type": "code",
        "outputId": "6c058f5e-5a87-4c3f-8051-66151cf4b181",
        "colab": {
          "base_uri": "https://localhost:8080/",
          "height": 201
        }
      },
      "source": [
        "def get_cnn_v1(input_shape, num_classes):\n",
        "  return Sequential([\n",
        "    Conv2D(filters=64, kernel_size=(3, 3), activation='relu', input_shape=input_shape),\n",
        "    Flatten(),\n",
        "    Dense(num_classes, activation='softmax'), \n",
        "  ])\n",
        "# powyzej czesc ktora nam zwraca model\n",
        "\n",
        "def train_model(model, X_train, y_train, params_fit={}):\n",
        "  model.compile(loss='categorical_crossentropy', optimizer='Adam', metrics=['accuracy'])\n",
        "\n",
        "  logdir = os.path.join(\"logs\", datetime.datetime.now().strftime(\"%Y%m%d-%H%M%S\"))\n",
        "  tensorboard_callback = tf.keras.callbacks.TensorBoard(logdir, histogram_freq=1)\n",
        "\n",
        "  model.fit(\n",
        "      X_train,\n",
        "      y_train,\n",
        "      batch_size=params_fit.get('batch_size', 128),\n",
        "      epochs=params_fit.get('epochs', 5),\n",
        "      verbose=params_fit.get('verbose', 1),\n",
        "      validation_data=params_fit.get('validation_data', (X_train, y_train)),\n",
        "      callbacks= [tensorboard_callback]\n",
        "  )\n",
        "\n",
        "  return model\n",
        "\n",
        "  # ponizej czesc ktora nam przypisuje w modelu wynik trenowania\n",
        "\n",
        "model = get_cnn_v1(input_shape, num_classes)\n",
        "model_trained = train_model(model, X_train, y_train)"
      ],
      "execution_count": 12,
      "outputs": [
        {
          "output_type": "stream",
          "text": [
            "Epoch 1/5\n",
            "272/272 [==============================] - 3s 9ms/step - loss: 38.4005 - accuracy: 0.7440 - val_loss: 0.2275 - val_accuracy: 0.9505\n",
            "Epoch 2/5\n",
            "272/272 [==============================] - 2s 9ms/step - loss: 0.2056 - accuracy: 0.9513 - val_loss: 0.1201 - val_accuracy: 0.9718\n",
            "Epoch 3/5\n",
            "272/272 [==============================] - 2s 9ms/step - loss: 0.1520 - accuracy: 0.9631 - val_loss: 0.1303 - val_accuracy: 0.9666\n",
            "Epoch 4/5\n",
            "272/272 [==============================] - 2s 9ms/step - loss: 0.0987 - accuracy: 0.9756 - val_loss: 0.0595 - val_accuracy: 0.9846\n",
            "Epoch 5/5\n",
            "272/272 [==============================] - 2s 9ms/step - loss: 0.0736 - accuracy: 0.9825 - val_loss: 0.0698 - val_accuracy: 0.9851\n"
          ],
          "name": "stdout"
        }
      ]
    },
    {
      "cell_type": "code",
      "metadata": {
        "id": "VqVD8DwxGUSo",
        "colab_type": "code",
        "colab": {
          "base_uri": "https://localhost:8080/",
          "height": 256
        },
        "outputId": "4a1e15f7-dbb8-482d-f712-487d50def7f9"
      },
      "source": [
        "y_pred_prob = model_trained.predict(X_test)\n",
        "y_pred_prob\n",
        "\n",
        "# zwraca nam prawdopodobienstwo na ile ten znak nalezy do tej klasy a wynik jest w postaci tablicy"
      ],
      "execution_count": 13,
      "outputs": [
        {
          "output_type": "execute_result",
          "data": {
            "text/plain": [
              "array([[1.3307210e-08, 9.1855967e-05, 3.0679745e-04, ..., 9.6459838e-04,\n",
              "        7.2454149e-04, 3.9923094e-02],\n",
              "       [2.6080016e-09, 3.1434040e-05, 7.6906214e-04, ..., 7.0310642e-05,\n",
              "        7.7989938e-07, 5.8217067e-04],\n",
              "       [1.5896470e-08, 1.6649359e-05, 2.7033810e-05, ..., 4.4436462e-04,\n",
              "        7.5876531e-03, 1.6061279e-01],\n",
              "       ...,\n",
              "       [1.0916429e-02, 8.2423398e-03, 3.5759755e-03, ..., 2.4621952e-03,\n",
              "        8.9344075e-03, 9.5346933e-03],\n",
              "       [3.4279816e-03, 6.5539046e-03, 1.0507299e-03, ..., 1.4818854e-03,\n",
              "        5.6974641e-03, 2.1354316e-03],\n",
              "       [1.0360082e-03, 2.1567056e-03, 2.0735553e-03, ..., 1.2475319e-03,\n",
              "        5.5323928e-03, 3.7481962e-04]], dtype=float32)"
            ]
          },
          "metadata": {
            "tags": []
          },
          "execution_count": 13
        }
      ]
    },
    {
      "cell_type": "code",
      "metadata": {
        "id": "Y4_vEDGTEn03",
        "colab_type": "code",
        "colab": {
          "base_uri": "https://localhost:8080/",
          "height": 219
        },
        "outputId": "70eed888-e1cb-4613-b820-24a4b84cd9b7"
      },
      "source": [
        "y_pred_prob[400]\n",
        "\n",
        "# teraz upraszczamy aby powyzszy wynik byl bardziej zrozumialy"
      ],
      "execution_count": 14,
      "outputs": [
        {
          "output_type": "execute_result",
          "data": {
            "text/plain": [
              "array([1.17865972e-01, 8.74693155e-01, 1.22092012e-03, 1.04387459e-06,\n",
              "       5.96080534e-03, 1.54993722e-06, 4.59651589e-28, 5.14413300e-17,\n",
              "       3.46762509e-18, 2.55914609e-04, 1.20286090e-14, 2.54421946e-17,\n",
              "       1.22102810e-24, 2.02279074e-14, 2.44417816e-16, 2.15340685e-13,\n",
              "       7.58117210e-07, 3.81169108e-21, 4.98956396e-21, 5.91679144e-26,\n",
              "       1.74242962e-16, 1.03502344e-19, 2.22352250e-32, 1.65102669e-17,\n",
              "       1.15516641e-21, 2.24169565e-18, 1.03015038e-20, 1.44596682e-27,\n",
              "       3.56612716e-20, 1.72901815e-20, 1.85232343e-25, 2.44167344e-22,\n",
              "       4.67809048e-32, 3.33770447e-21, 7.53483586e-23, 2.80138063e-21,\n",
              "       2.00994748e-27, 7.05439539e-28, 3.25736420e-22, 4.77221134e-18,\n",
              "       2.28686520e-21, 3.60613279e-32, 1.19979741e-25], dtype=float32)"
            ]
          },
          "metadata": {
            "tags": []
          },
          "execution_count": 14
        }
      ]
    },
    {
      "cell_type": "code",
      "metadata": {
        "id": "PcDgO3FnI049",
        "colab_type": "code",
        "colab": {
          "base_uri": "https://localhost:8080/",
          "height": 35
        },
        "outputId": "cfac3bb0-16ff-4b5c-caa3-445df368405f"
      },
      "source": [
        "np.argmax(y_pred_prob[400])\n",
        "\n",
        "# zwraca nam indeks gdzie znajduje sie maksymalna wartosc"
      ],
      "execution_count": 21,
      "outputs": [
        {
          "output_type": "execute_result",
          "data": {
            "text/plain": [
              "1"
            ]
          },
          "metadata": {
            "tags": []
          },
          "execution_count": 21
        }
      ]
    },
    {
      "cell_type": "code",
      "metadata": {
        "id": "EmsqjgfVG7zw",
        "colab_type": "code",
        "colab": {
          "base_uri": "https://localhost:8080/",
          "height": 219
        },
        "outputId": "da68401c-8eb8-42e5-937f-38e0421974de"
      },
      "source": [
        "y_pred_prob[0]"
      ],
      "execution_count": 15,
      "outputs": [
        {
          "output_type": "execute_result",
          "data": {
            "text/plain": [
              "array([1.3307210e-08, 9.1855967e-05, 3.0679745e-04, 1.0687941e-03,\n",
              "       3.4169502e-06, 2.6098592e-04, 1.2768545e-05, 1.1533610e-04,\n",
              "       6.1980641e-04, 7.0268911e-04, 3.1679535e-06, 7.8932368e-05,\n",
              "       4.0057510e-02, 7.7902149e-07, 1.1452665e-06, 3.4582768e-06,\n",
              "       1.2812238e-07, 3.6193262e-07, 6.4133353e-08, 4.4996094e-11,\n",
              "       4.4316899e-08, 7.6793449e-06, 3.4475476e-12, 1.6449577e-03,\n",
              "       1.6346409e-07, 6.8102555e-13, 3.3751630e-07, 5.9589770e-08,\n",
              "       7.8706971e-06, 8.3358576e-10, 1.6251150e-08, 1.0990926e-07,\n",
              "       9.1338933e-01, 4.7671950e-08, 3.4240500e-07, 2.1319809e-06,\n",
              "       1.0304396e-06, 2.7309608e-07, 3.8837720e-06, 1.4628916e-06,\n",
              "       9.6459838e-04, 7.2454149e-04, 3.9923094e-02], dtype=float32)"
            ]
          },
          "metadata": {
            "tags": []
          },
          "execution_count": 15
        }
      ]
    },
    {
      "cell_type": "code",
      "metadata": {
        "id": "_Ok6N2j3KYct",
        "colab_type": "code",
        "colab": {
          "base_uri": "https://localhost:8080/",
          "height": 35
        },
        "outputId": "0af6108a-95f9-4b41-f3ed-8095b864a296"
      },
      "source": [
        "np.sum([1.17865972e-01, 8.74693155e-01, 1.22092012e-03, 1.04387459e-06,\n",
        "       5.96080534e-03, 1.54993722e-06, 4.59651589e-28, 5.14413300e-17,\n",
        "       3.46762509e-18, 2.55914609e-04, 1.20286090e-14, 2.54421946e-17,\n",
        "       1.22102810e-24, 2.02279074e-14, 2.44417816e-16, 2.15340685e-13,\n",
        "       7.58117210e-07, 3.81169108e-21, 4.98956396e-21, 5.91679144e-26,\n",
        "       1.74242962e-16, 1.03502344e-19, 2.22352250e-32, 1.65102669e-17,\n",
        "       1.15516641e-21, 2.24169565e-18, 1.03015038e-20, 1.44596682e-27,\n",
        "       3.56612716e-20, 1.72901815e-20, 1.85232343e-25, 2.44167344e-22,\n",
        "       4.67809048e-32, 3.33770447e-21, 7.53483586e-23, 2.80138063e-21,\n",
        "       2.00994748e-27, 7.05439539e-28, 3.25736420e-22, 4.77221134e-18,\n",
        "       2.28686520e-21, 3.60613279e-32, 1.19979741e-25])\n",
        "# to suma wszystkich prawdopodobienstw ze wszystkich klas i powinno byc 100 procent czyli jedynka z zaokragleniem gdzies wychodzi"
      ],
      "execution_count": 25,
      "outputs": [
        {
          "output_type": "execute_result",
          "data": {
            "text/plain": [
              "1.0000001189982681"
            ]
          },
          "metadata": {
            "tags": []
          },
          "execution_count": 25
        }
      ]
    },
    {
      "cell_type": "code",
      "metadata": {
        "id": "jAaHbaGmK76D",
        "colab_type": "code",
        "colab": {
          "base_uri": "https://localhost:8080/",
          "height": 283
        },
        "outputId": "251d7246-9818-4cbd-d9bb-30d9fa5fecd8"
      },
      "source": [
        "plt.bar(range(43), y_pred_prob[400])"
      ],
      "execution_count": 26,
      "outputs": [
        {
          "output_type": "execute_result",
          "data": {
            "text/plain": [
              "<BarContainer object of 43 artists>"
            ]
          },
          "metadata": {
            "tags": []
          },
          "execution_count": 26
        },
        {
          "output_type": "display_data",
          "data": {
            "image/png": "[encoded data removed]",
            "text/plain": [
              "<Figure size 432x288 with 1 Axes>"
            ]
          },
          "metadata": {
            "tags": []
          }
        }
      ]
    },
    {
      "cell_type": "code",
      "metadata": {
        "id": "EjtFLGXmIUTm",
        "colab_type": "code",
        "colab": {}
      },
      "source": [
        "df = pd.read_csv('data/signnames.csv')\n",
        "labels_dict = df.to_dict()['b']"
      ],
      "execution_count": 0,
      "outputs": []
    },
    {
      "cell_type": "code",
      "metadata": {
        "id": "swnhes6CLY12",
        "colab_type": "code",
        "colab": {
          "base_uri": "https://localhost:8080/",
          "height": 35
        },
        "outputId": "fa6f4f90-76fe-4871-cc81-43e2346879d6"
      },
      "source": [
        "labels_dict[1]"
      ],
      "execution_count": 27,
      "outputs": [
        {
          "output_type": "execute_result",
          "data": {
            "text/plain": [
              "'Speed limit (30km/h)'"
            ]
          },
          "metadata": {
            "tags": []
          },
          "execution_count": 27
        }
      ]
    },
    {
      "cell_type": "code",
      "metadata": {
        "id": "0UIH95OLJjG0",
        "colab_type": "code",
        "colab": {
          "base_uri": "https://localhost:8080/",
          "height": 35
        },
        "outputId": "643f9c87-1619-49af-df6d-dd59750d4a7d"
      },
      "source": [
        "labels_dict[np.argmax(y_pred_prob[400])]"
      ],
      "execution_count": 24,
      "outputs": [
        {
          "output_type": "execute_result",
          "data": {
            "text/plain": [
              "'Speed limit (30km/h)'"
            ]
          },
          "metadata": {
            "tags": []
          },
          "execution_count": 24
        }
      ]
    },
    {
      "cell_type": "code",
      "metadata": {
        "id": "GfSQeFK6HuHQ",
        "colab_type": "code",
        "colab": {
          "base_uri": "https://localhost:8080/",
          "height": 284
        },
        "outputId": "a3512173-078f-495c-8dcf-d3d27cd65002"
      },
      "source": [
        "plt.imshow(X_test[400])"
      ],
      "execution_count": 18,
      "outputs": [
        {
          "output_type": "execute_result",
          "data": {
            "text/plain": [
              "<matplotlib.image.AxesImage at 0x7ff148fcf4a8>"
            ]
          },
          "metadata": {
            "tags": []
          },
          "execution_count": 18
        },
        {
          "output_type": "display_data",
          "data": {
            "image/png": "[encoded data removed]",
            "text/plain": [
              "<Figure size 432x288 with 1 Axes>"
            ]
          },
          "metadata": {
            "tags": []
          }
        }
      ]
    },
    {
      "cell_type": "code",
      "metadata": {
        "id": "ab5IahwTILkn",
        "colab_type": "code",
        "colab": {
          "base_uri": "https://localhost:8080/",
          "height": 35
        },
        "outputId": "df64a1af-82b6-4196-ff0d-6a1c54d120f2"
      },
      "source": [
        "ls data"
      ],
      "execution_count": 19,
      "outputs": [
        {
          "output_type": "stream",
          "text": [
            "signnames.csv  test.p  train.p\n"
          ],
          "name": "stdout"
        }
      ]
    },
    {
      "cell_type": "code",
      "metadata": {
        "id": "3GeNmm2UJFlt",
        "colab_type": "code",
        "colab": {
          "base_uri": "https://localhost:8080/",
          "height": 35
        },
        "outputId": "6fcb1c05-8b60-43b5-c3dc-7ee55312db6a"
      },
      "source": [
        "def predict(model_trained, X_test, y_test, scoring=accuracy_score):\n",
        "  y_test_norm = np.argmax(y_test, axis=1)\n",
        "\n",
        "  y_pred_prob = model_trained.predict(X_test)\n",
        "  y_pred = np.argmax(y_pred_prob, axis=1)\n",
        "\n",
        "  return scoring(y_test_norm, y_pred)\n",
        "\n",
        "predict(model_trained, X_test, y_test)"
      ],
      "execution_count": 28,
      "outputs": [
        {
          "output_type": "execute_result",
          "data": {
            "text/plain": [
              "0.8208616780045351"
            ]
          },
          "metadata": {
            "tags": []
          },
          "execution_count": 28
        }
      ]
    },
    {
      "cell_type": "code",
      "metadata": {
        "id": "zZ4ujZC1Mx9v",
        "colab_type": "code",
        "colab": {
          "base_uri": "https://localhost:8080/",
          "height": 219
        },
        "outputId": "82538fee-44f1-4d74-93f0-22941a372818"
      },
      "source": [
        "def train_and_predict(model):\n",
        "  model_trained = train_model(model, X_train, y_train)\n",
        "  return predict(model_trained, X_test, y_test)\n",
        "\n",
        "def get_cnn_v2(input_shape, num_classes):\n",
        "  return Sequential([\n",
        "    Conv2D(filters=32, kernel_size=(3, 3), activation='relu', input_shape=input_shape),\n",
        "    MaxPool2D(),\n",
        "    Dropout(0.3),\n",
        "\n",
        "    Conv2D(filters=64, kernel_size=(3, 3), activation='relu'),\n",
        "    MaxPool2D(),\n",
        "    Dropout(0.3),\n",
        "\n",
        "    Flatten(),\n",
        "\n",
        "    Dense(1024, activation='relu'),\n",
        "    Dropout(0.3),\n",
        "\n",
        "    Dense(num_classes, activation='softmax'), \n",
        "  ])\n",
        "\n",
        "train_and_predict(get_cnn_v2(input_shape, num_classes))\n",
        "\n",
        "# powyzej jest to rodzaj architecture engineering i chcemy zeby nam sie szybciej trenowal model"
      ],
      "execution_count": 29,
      "outputs": [
        {
          "output_type": "stream",
          "text": [
            "Epoch 1/5\n",
            "272/272 [==============================] - 3s 9ms/step - loss: 5.5912 - accuracy: 0.3681 - val_loss: 1.0546 - val_accuracy: 0.7273\n",
            "Epoch 2/5\n",
            "272/272 [==============================] - 2s 9ms/step - loss: 1.0247 - accuracy: 0.6958 - val_loss: 0.3869 - val_accuracy: 0.9129\n",
            "Epoch 3/5\n",
            "272/272 [==============================] - 2s 9ms/step - loss: 0.5728 - accuracy: 0.8231 - val_loss: 0.1772 - val_accuracy: 0.9578\n",
            "Epoch 4/5\n",
            "272/272 [==============================] - 2s 9ms/step - loss: 0.3847 - accuracy: 0.8823 - val_loss: 0.1045 - val_accuracy: 0.9741\n",
            "Epoch 5/5\n",
            "272/272 [==============================] - 2s 9ms/step - loss: 0.2896 - accuracy: 0.9113 - val_loss: 0.0722 - val_accuracy: 0.9826\n"
          ],
          "name": "stdout"
        },
        {
          "output_type": "execute_result",
          "data": {
            "text/plain": [
              "0.8970521541950114"
            ]
          },
          "metadata": {
            "tags": []
          },
          "execution_count": 29
        }
      ]
    },
    {
      "cell_type": "code",
      "metadata": {
        "id": "N_G7T5TuPCoa",
        "colab_type": "code",
        "colab": {
          "base_uri": "https://localhost:8080/",
          "height": 219
        },
        "outputId": "a1fb4d57-2f74-42cd-b37d-a398c001736f"
      },
      "source": [
        "def get_cnn_v3(input_shape, num_classes):\n",
        "  return Sequential([\n",
        "    Conv2D(filters=32, kernel_size=(3, 3), activation='relu', input_shape=input_shape),\n",
        "    Conv2D(filters=32, kernel_size=(3, 3), activation='relu'),\n",
        "    MaxPool2D(),\n",
        "    Dropout(0.3),\n",
        "\n",
        "    Conv2D(filters=64, kernel_size=(3, 3), activation='relu'),\n",
        "    Conv2D(filters=64, kernel_size=(3, 3), activation='relu'),\n",
        "    MaxPool2D(),\n",
        "    Dropout(0.3),\n",
        "\n",
        "    Flatten(),\n",
        "\n",
        "    Dense(1024, activation='relu'),\n",
        "    Dropout(0.3),\n",
        "\n",
        "    Dense(num_classes, activation='softmax'), \n",
        "  ])\n",
        "\n",
        "train_and_predict(get_cnn_v3(input_shape, num_classes))\n",
        "\n",
        "# jeszcze bardziej podkrecamy model aby uzyskac lepszy wynik, lepsza predykcje"
      ],
      "execution_count": 30,
      "outputs": [
        {
          "output_type": "stream",
          "text": [
            "Epoch 1/5\n",
            "272/272 [==============================] - 3s 12ms/step - loss: 2.3848 - accuracy: 0.4702 - val_loss: 0.4781 - val_accuracy: 0.8853\n",
            "Epoch 2/5\n",
            "272/272 [==============================] - 3s 11ms/step - loss: 0.5502 - accuracy: 0.8377 - val_loss: 0.1349 - val_accuracy: 0.9726\n",
            "Epoch 3/5\n",
            "272/272 [==============================] - 3s 11ms/step - loss: 0.2807 - accuracy: 0.9162 - val_loss: 0.0539 - val_accuracy: 0.9887\n",
            "Epoch 4/5\n",
            "272/272 [==============================] - 3s 11ms/step - loss: 0.1764 - accuracy: 0.9488 - val_loss: 0.0314 - val_accuracy: 0.9932\n",
            "Epoch 5/5\n",
            "272/272 [==============================] - 3s 11ms/step - loss: 0.1332 - accuracy: 0.9616 - val_loss: 0.0233 - val_accuracy: 0.9955\n"
          ],
          "name": "stdout"
        },
        {
          "output_type": "execute_result",
          "data": {
            "text/plain": [
              "0.9696145124716553"
            ]
          },
          "metadata": {
            "tags": []
          },
          "execution_count": 30
        }
      ]
    },
    {
      "cell_type": "code",
      "metadata": {
        "id": "i1ILvHbqPXGh",
        "colab_type": "code",
        "colab": {
          "base_uri": "https://localhost:8080/",
          "height": 219
        },
        "outputId": "b09d4b5c-4a88-42aa-f598-79e4593a330d"
      },
      "source": [
        "def get_cnn_v4(input_shape, num_classes):\n",
        "  return Sequential([\n",
        "    Conv2D(filters=32, kernel_size=(3, 3), activation='relu', input_shape=input_shape),\n",
        "    Conv2D(filters=32, kernel_size=(3, 3), activation='relu', padding='same'),\n",
        "    MaxPool2D(),\n",
        "    Dropout(0.3),\n",
        "    # przez padding = same dodajemy zeby zdjecie mialo jakies rozmiary i mozemy go pomniejszac\n",
        "\n",
        "    Conv2D(filters=64, kernel_size=(3, 3), activation='relu', padding='same'),\n",
        "    Conv2D(filters=64, kernel_size=(3, 3), activation='relu'),\n",
        "    MaxPool2D(),\n",
        "    Dropout(0.3),\n",
        "\n",
        "    Conv2D(filters=64, kernel_size=(3, 3), activation='relu', padding='same'),\n",
        "    Conv2D(filters=64, kernel_size=(3, 3), activation='relu'),\n",
        "    MaxPool2D(),\n",
        "    Dropout(0.3),\n",
        "    \n",
        "    Flatten(),\n",
        "\n",
        "    Dense(1024, activation='relu'),\n",
        "    Dropout(0.3),\n",
        "\n",
        "    Dense(num_classes, activation='softmax'), \n",
        "  ])\n",
        "\n",
        "#get_cnn_v4(input_shape, num_classes).summary()\n",
        "train_and_predict(get_cnn_v4(input_shape, num_classes))"
      ],
      "execution_count": 31,
      "outputs": [
        {
          "output_type": "stream",
          "text": [
            "Epoch 1/5\n",
            "272/272 [==============================] - 4s 14ms/step - loss: 2.6820 - accuracy: 0.2736 - val_loss: 1.0510 - val_accuracy: 0.7353\n",
            "Epoch 2/5\n",
            "272/272 [==============================] - 3s 13ms/step - loss: 0.9426 - accuracy: 0.7111 - val_loss: 0.2431 - val_accuracy: 0.9328\n",
            "Epoch 3/5\n",
            "272/272 [==============================] - 4s 13ms/step - loss: 0.4773 - accuracy: 0.8527 - val_loss: 0.1414 - val_accuracy: 0.9645\n",
            "Epoch 4/5\n",
            "272/272 [==============================] - 4s 13ms/step - loss: 0.3206 - accuracy: 0.9005 - val_loss: 0.0688 - val_accuracy: 0.9810\n",
            "Epoch 5/5\n",
            "272/272 [==============================] - 4s 13ms/step - loss: 0.2356 - accuracy: 0.9279 - val_loss: 0.0584 - val_accuracy: 0.9854\n"
          ],
          "name": "stdout"
        },
        {
          "output_type": "execute_result",
          "data": {
            "text/plain": [
              "0.9659863945578231"
            ]
          },
          "metadata": {
            "tags": []
          },
          "execution_count": 31
        }
      ]
    },
    {
      "cell_type": "code",
      "metadata": {
        "id": "8v-qdSqoQFdt",
        "colab_type": "code",
        "colab": {
          "base_uri": "https://localhost:8080/",
          "height": 219
        },
        "outputId": "31e46884-3bb3-4338-ff7b-b249de72ffa6"
      },
      "source": [
        "def get_cnn_v5(input_shape, num_classes):\n",
        "  return Sequential([\n",
        "    Conv2D(filters=32, kernel_size=(3, 3), activation='relu', input_shape=input_shape),\n",
        "    Conv2D(filters=32, kernel_size=(3, 3), activation='relu', padding='same'),\n",
        "    MaxPool2D(),\n",
        "    Dropout(0.3),\n",
        "\n",
        "    Conv2D(filters=64, kernel_size=(3, 3), activation='relu', padding='same'),\n",
        "    Conv2D(filters=64, kernel_size=(3, 3), activation='relu'),\n",
        "    MaxPool2D(),\n",
        "    Dropout(0.3),\n",
        "\n",
        "    Conv2D(filters=64, kernel_size=(3, 3), activation='relu', padding='same'),\n",
        "    Conv2D(filters=64, kernel_size=(3, 3), activation='relu'),\n",
        "    MaxPool2D(),\n",
        "    Dropout(0.3),\n",
        "    \n",
        "    Flatten(),\n",
        "\n",
        "    Dense(1024, activation='relu'),\n",
        "    Dropout(0.3),\n",
        "\n",
        "    Dense(1024, activation='relu'),\n",
        "    Dropout(0.3),\n",
        "\n",
        "    Dense(num_classes, activation='softmax'), \n",
        "  ])\n",
        "\n",
        "train_and_predict(get_cnn_v5(input_shape, num_classes))"
      ],
      "execution_count": 32,
      "outputs": [
        {
          "output_type": "stream",
          "text": [
            "Epoch 1/5\n",
            "272/272 [==============================] - 4s 14ms/step - loss: 2.4850 - accuracy: 0.3107 - val_loss: 0.9792 - val_accuracy: 0.7088\n",
            "Epoch 2/5\n",
            "272/272 [==============================] - 4s 14ms/step - loss: 0.8185 - accuracy: 0.7432 - val_loss: 0.2409 - val_accuracy: 0.9228\n",
            "Epoch 3/5\n",
            "272/272 [==============================] - 4s 14ms/step - loss: 0.4168 - accuracy: 0.8692 - val_loss: 0.1182 - val_accuracy: 0.9669\n",
            "Epoch 4/5\n",
            "272/272 [==============================] - 4s 14ms/step - loss: 0.2807 - accuracy: 0.9142 - val_loss: 0.0673 - val_accuracy: 0.9802\n",
            "Epoch 5/5\n",
            "272/272 [==============================] - 4s 14ms/step - loss: 0.2096 - accuracy: 0.9356 - val_loss: 0.0467 - val_accuracy: 0.9849\n"
          ],
          "name": "stdout"
        },
        {
          "output_type": "execute_result",
          "data": {
            "text/plain": [
              "0.9569160997732427"
            ]
          },
          "metadata": {
            "tags": []
          },
          "execution_count": 32
        }
      ]
    },
    {
      "cell_type": "code",
      "metadata": {
        "id": "3bHs4p6gQagg",
        "colab_type": "code",
        "colab": {
          "base_uri": "https://localhost:8080/",
          "height": 35
        },
        "outputId": "88653c29-3c6a-4e67-d63c-3cdf52c3dec2"
      },
      "source": [
        "X_train[0].shape\n",
        "# w tej chwili mamy trzy kanaly i chcemy je powiekszyc i skonwertowac do rozmiaru szarosci"
      ],
      "execution_count": 33,
      "outputs": [
        {
          "output_type": "execute_result",
          "data": {
            "text/plain": [
              "(32, 32, 3)"
            ]
          },
          "metadata": {
            "tags": []
          },
          "execution_count": 33
        }
      ]
    },
    {
      "cell_type": "code",
      "metadata": {
        "id": "0d-yWMPCQmid",
        "colab_type": "code",
        "colab": {
          "base_uri": "https://localhost:8080/",
          "height": 35
        },
        "outputId": "50132f1e-4ef6-4d88-894c-c18643c1530e"
      },
      "source": [
        "color.rgb2gray(X_train[0]).shape\n",
        "# teraz mamy jeden kanal i zdjecie jest szare"
      ],
      "execution_count": 34,
      "outputs": [
        {
          "output_type": "execute_result",
          "data": {
            "text/plain": [
              "(32, 32)"
            ]
          },
          "metadata": {
            "tags": []
          },
          "execution_count": 34
        }
      ]
    },
    {
      "cell_type": "code",
      "metadata": {
        "id": "hTnMIlWmQx9u",
        "colab_type": "code",
        "colab": {
          "base_uri": "https://localhost:8080/",
          "height": 284
        },
        "outputId": "9f37bfe5-68b1-4e6d-e684-82476877e86e"
      },
      "source": [
        "plt.imshow(color.rgb2gray(X_train[0]))"
      ],
      "execution_count": 35,
      "outputs": [
        {
          "output_type": "execute_result",
          "data": {
            "text/plain": [
              "<matplotlib.image.AxesImage at 0x7ff145b025c0>"
            ]
          },
          "metadata": {
            "tags": []
          },
          "execution_count": 35
        },
        {
          "output_type": "display_data",
          "data": {
            "image/png": "[encoded data removed]",
            "text/plain": [
              "<Figure size 432x288 with 1 Axes>"
            ]
          },
          "metadata": {
            "tags": []
          }
        }
      ]
    },
    {
      "cell_type": "code",
      "metadata": {
        "id": "4mo6b46YRTd4",
        "colab_type": "code",
        "colab": {
          "base_uri": "https://localhost:8080/",
          "height": 35
        },
        "outputId": "c758b4a9-dcfa-47a3-a2ea-dbd4636d3ee8"
      },
      "source": [
        "color.rgb2gray(X_train).shape\n",
        "# odpalamy na wszystkich zdjeciach pamietajac ze mamy jeden kanal"
      ],
      "execution_count": 37,
      "outputs": [
        {
          "output_type": "execute_result",
          "data": {
            "text/plain": [
              "(34799, 32, 32)"
            ]
          },
          "metadata": {
            "tags": []
          },
          "execution_count": 37
        }
      ]
    },
    {
      "cell_type": "code",
      "metadata": {
        "id": "ajaBu5dDRt36",
        "colab_type": "code",
        "colab": {
          "base_uri": "https://localhost:8080/",
          "height": 219
        },
        "outputId": "3864de95-d8ea-454e-8d07-345bbd2ec2f4"
      },
      "source": [
        "#transformacja dla wszystkich zdięć\n",
        "X_train_gray = color.rgb2gray(X_train).reshape(-1, 32, 32, 1)\n",
        "X_test_gray = color.rgb2gray(X_test).reshape(-1, 32, 32, 1)\n",
        "\n",
        "model = get_cnn_v5((32, 32, 1), num_classes)\n",
        "model_trained = train_model(model, X_train_gray, y_train, params_fit={})\n",
        "predict(model_trained, X_test_gray, y_test)"
      ],
      "execution_count": 38,
      "outputs": [
        {
          "output_type": "stream",
          "text": [
            "Epoch 1/5\n",
            "272/272 [==============================] - 4s 14ms/step - loss: 2.6392 - accuracy: 0.2589 - val_loss: 0.7388 - val_accuracy: 0.7622\n",
            "Epoch 2/5\n",
            "272/272 [==============================] - 4s 13ms/step - loss: 0.5460 - accuracy: 0.8234 - val_loss: 0.1089 - val_accuracy: 0.9670\n",
            "Epoch 3/5\n",
            "272/272 [==============================] - 4s 14ms/step - loss: 0.2181 - accuracy: 0.9303 - val_loss: 0.0500 - val_accuracy: 0.9845\n",
            "Epoch 4/5\n",
            "272/272 [==============================] - 4s 13ms/step - loss: 0.1493 - accuracy: 0.9520 - val_loss: 0.0324 - val_accuracy: 0.9917\n",
            "Epoch 5/5\n",
            "272/272 [==============================] - 4s 14ms/step - loss: 0.1127 - accuracy: 0.9654 - val_loss: 0.0200 - val_accuracy: 0.9938\n"
          ],
          "name": "stdout"
        },
        {
          "output_type": "execute_result",
          "data": {
            "text/plain": [
              "0.9732426303854875"
            ]
          },
          "metadata": {
            "tags": []
          },
          "execution_count": 38
        }
      ]
    },
    {
      "cell_type": "code",
      "metadata": {
        "id": "RQVTKZm8RAv-",
        "colab_type": "code",
        "colab": {
          "base_uri": "https://localhost:8080/",
          "height": 284
        },
        "outputId": "b7f2df4d-15f4-4779-a8e9-ac5246283bd2"
      },
      "source": [
        "plt.imshow(color.rgb2gray(X_train[0]), cmap=plt.get_cmap('gray'))"
      ],
      "execution_count": 36,
      "outputs": [
        {
          "output_type": "execute_result",
          "data": {
            "text/plain": [
              "<matplotlib.image.AxesImage at 0x7ff145b1e048>"
            ]
          },
          "metadata": {
            "tags": []
          },
          "execution_count": 36
        },
        {
          "output_type": "display_data",
          "data": {
            "image/png": "[encoded data removed]",
            "text/plain": [
              "<Figure size 432x288 with 1 Axes>"
            ]
          },
          "metadata": {
            "tags": []
          }
        }
      ]
    },
    {
      "cell_type": "code",
      "metadata": {
        "id": "F9Nu706HUsVz",
        "colab_type": "code",
        "colab": {
          "base_uri": "https://localhost:8080/",
          "height": 284
        },
        "outputId": "c25fb92a-b9c1-425d-e210-9c42ec846770"
      },
      "source": [
        "def preproc_img(img):\n",
        "  hsv = color.rgb2hsv(img)\n",
        "  hsv[:, :, 2] = exposure.equalize_adapthist(hsv[:, :, 2])\n",
        "  img = color.hsv2rgb(hsv)\n",
        "\n",
        "  return img\n",
        "\n",
        "plt.imshow(X_train[400])\n",
        "\n",
        "# dostajemy z tej funkcji zdjecie bez zadnej manipulacji"
      ],
      "execution_count": 39,
      "outputs": [
        {
          "output_type": "execute_result",
          "data": {
            "text/plain": [
              "<matplotlib.image.AxesImage at 0x7ff145bd2a58>"
            ]
          },
          "metadata": {
            "tags": []
          },
          "execution_count": 39
        },
        {
          "output_type": "display_data",
          "data": {
            "image/png": "[encoded data removed]",
            "text/plain": [
              "<Figure size 432x288 with 1 Axes>"
            ]
          },
          "metadata": {
            "tags": []
          }
        }
      ]
    },
    {
      "cell_type": "code",
      "metadata": {
        "id": "-RD0br6NVEFW",
        "colab_type": "code",
        "colab": {
          "base_uri": "https://localhost:8080/",
          "height": 284
        },
        "outputId": "ad7e789c-dddf-432d-de44-e15bd28f1c64"
      },
      "source": [
        "plt.imshow(preproc_img (X_train[400]))\n",
        "\n",
        "# podkrecamy troche kontrasty"
      ],
      "execution_count": 40,
      "outputs": [
        {
          "output_type": "execute_result",
          "data": {
            "text/plain": [
              "<matplotlib.image.AxesImage at 0x7ff1b0222358>"
            ]
          },
          "metadata": {
            "tags": []
          },
          "execution_count": 40
        },
        {
          "output_type": "display_data",
          "data": {
            "image/png": "[encoded data removed]",
            "text/plain": [
              "<Figure size 432x288 with 1 Axes>"
            ]
          },
          "metadata": {
            "tags": []
          }
        }
      ]
    },
    {
      "cell_type": "code",
      "metadata": {
        "id": "7ezVqKZAWk_8",
        "colab_type": "code",
        "colab": {}
      },
      "source": [
        "X_train_prp = X_train.copy().astype(np.float32)\n",
        "X_test_prp = X_test.copy().astype(np.float32)\n",
        "\n",
        "for i in tdqm(range(X_train.shape[0])):\n",
        "  X_train_prp[i] = preproc_img(X_train[i])\n",
        "\n",
        "#ten kawalek kodu jest dosc wolny ale moze pomoc w manipulacji danymi\n"
      ],
      "execution_count": 0,
      "outputs": []
    }
  ]
}